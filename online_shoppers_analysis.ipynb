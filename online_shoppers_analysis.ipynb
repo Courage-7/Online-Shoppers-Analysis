{
 "cells": [
  {
   "cell_type": "markdown",
   "metadata": {
    "id": "ryf6QWZAdjEr"
   },
   "source": [
    "# **ONLINE SHOPPER'S INTENTION ANALYSIS**\n",
    "\n",
    "\n",
    "\n",
    "**BY COURAGE SIAMEH.**"
   ]
  },
  {
   "cell_type": "markdown",
   "metadata": {
    "id": "HT9DBbSkDqR9"
   },
   "source": [
    "**INTRODUCTION**\n",
    "\n",
    "Online shopping by consumers is increasing every year, but the conversion rates have stayed relatively stable. For instance, many of us explore e-commerce platforms like Amazon, may add things to our wishlists or shopping carts, but ultimately make no purchases. This reality highlights the necessity for tools and strategies that can tailor promotions and ads to online shoppers and enhance conversion rates. This project will explore multiple factors that influence a buyer's decision.\n",
    "\n",
    "**DATASET**\n",
    "\n",
    "We will be utilizing information from the Online Shoppers Purchasing Intention Dataset for this project, which is accessible through the UCI repository. The primary dataset can be located at this link: https://archive.ics.uci.edu/ml/datasets/Online+Shoppers+Purchasing+Intention+Dataset.\n",
    "\n",
    "\n",
    "**PROJECT MOTIVATION**\n",
    "\n",
    "The motivation behind this project is to address the issue of low conversion rates in e-commerce websites despite the increasing trend of online shopping. The project aims to use data from the Online Shoppers Purchasing Intention Dataset to analyze various factors that influence a purchaser's decision and explore solutions to improve conversion rates. By customizing promotions and advertisements for online shoppers based on their behavior, preferences, and characteristics, the project aims to improve the overall shopping experience and increase sales for e-commerce websites.\n"
   ]
  },
  {
   "cell_type": "markdown",
   "metadata": {
    "id": "x2KM41h6FjaF"
   },
   "source": [
    "***Importing various Python Libraries***"
   ]
  },
  {
   "cell_type": "code",
   "execution_count": 1,
   "metadata": {
    "id": "xGKtIY44ce8t"
   },
   "outputs": [],
   "source": [
    "#importing all packages \n",
    "import pandas as pd\n",
    "import numpy as np\n",
    "import seaborn as sns\n",
    "import matplotlib.pyplot as plt\n",
    "%matplotlib inline\n",
    "from sklearn.cluster import KMeans\n",
    "from sklearn import preprocessing\n",
    "from sklearn.preprocessing import RobustScaler\n",
    "from sklearn.preprocessing import StandardScaler\n",
    "from sklearn.preprocessing import Normalizer\n",
    "from imblearn.over_sampling import SMOTE\n",
    "from sklearn.model_selection import train_test_split\n",
    "import warnings\n",
    "warnings.filterwarnings(\"ignore\")\n"
   ]
  },
  {
   "cell_type": "markdown",
   "metadata": {
    "id": "po1mFBV0SGQ2"
   },
   "source": [
    "***Importing The Dataset***"
   ]
  },
  {
   "cell_type": "code",
   "execution_count": 2,
   "metadata": {
    "colab": {
     "base_uri": "https://localhost:8080/",
     "height": 73
    },
    "id": "RNik_xodIzSt",
    "outputId": "6b934aed-4144-46de-bf12-ee2cca3b3ff7"
   },
   "outputs": [],
   "source": [
    "#importing the dataset into the dataframe df \n",
    "df = pd.read_csv('online_shoppers_intention.csv')"
   ]
  },
  {
   "cell_type": "markdown",
   "metadata": {
    "id": "ze2lxudjSjV_"
   },
   "source": [
    "***Data Assessment and Wrangling***"
   ]
  },
  {
   "cell_type": "code",
   "execution_count": 3,
   "metadata": {
    "colab": {
     "base_uri": "https://localhost:8080/",
     "height": 552
    },
    "id": "kaxLI1BqJ_t2",
    "outputId": "6ca2b108-1245-4853-ebe4-c4c0b41b4503"
   },
   "outputs": [
    {
     "data": {
      "text/html": [
       "<div>\n",
       "<style scoped>\n",
       "    .dataframe tbody tr th:only-of-type {\n",
       "        vertical-align: middle;\n",
       "    }\n",
       "\n",
       "    .dataframe tbody tr th {\n",
       "        vertical-align: top;\n",
       "    }\n",
       "\n",
       "    .dataframe thead th {\n",
       "        text-align: right;\n",
       "    }\n",
       "</style>\n",
       "<table border=\"1\" class=\"dataframe\">\n",
       "  <thead>\n",
       "    <tr style=\"text-align: right;\">\n",
       "      <th></th>\n",
       "      <th>Administrative</th>\n",
       "      <th>Administrative_Duration</th>\n",
       "      <th>Informational</th>\n",
       "      <th>Informational_Duration</th>\n",
       "      <th>ProductRelated</th>\n",
       "      <th>ProductRelated_Duration</th>\n",
       "      <th>BounceRates</th>\n",
       "      <th>ExitRates</th>\n",
       "      <th>PageValues</th>\n",
       "      <th>SpecialDay</th>\n",
       "      <th>Month</th>\n",
       "      <th>OperatingSystems</th>\n",
       "      <th>Browser</th>\n",
       "      <th>Region</th>\n",
       "      <th>TrafficType</th>\n",
       "      <th>VisitorType</th>\n",
       "      <th>Weekend</th>\n",
       "      <th>Revenue</th>\n",
       "    </tr>\n",
       "  </thead>\n",
       "  <tbody>\n",
       "    <tr>\n",
       "      <th>0</th>\n",
       "      <td>0</td>\n",
       "      <td>0.0</td>\n",
       "      <td>0</td>\n",
       "      <td>0.0</td>\n",
       "      <td>1</td>\n",
       "      <td>0.000000</td>\n",
       "      <td>0.200000</td>\n",
       "      <td>0.200000</td>\n",
       "      <td>0.0</td>\n",
       "      <td>0.0</td>\n",
       "      <td>Feb</td>\n",
       "      <td>1</td>\n",
       "      <td>1</td>\n",
       "      <td>1</td>\n",
       "      <td>1</td>\n",
       "      <td>Returning_Visitor</td>\n",
       "      <td>False</td>\n",
       "      <td>False</td>\n",
       "    </tr>\n",
       "    <tr>\n",
       "      <th>1</th>\n",
       "      <td>0</td>\n",
       "      <td>0.0</td>\n",
       "      <td>0</td>\n",
       "      <td>0.0</td>\n",
       "      <td>2</td>\n",
       "      <td>64.000000</td>\n",
       "      <td>0.000000</td>\n",
       "      <td>0.100000</td>\n",
       "      <td>0.0</td>\n",
       "      <td>0.0</td>\n",
       "      <td>Feb</td>\n",
       "      <td>2</td>\n",
       "      <td>2</td>\n",
       "      <td>1</td>\n",
       "      <td>2</td>\n",
       "      <td>Returning_Visitor</td>\n",
       "      <td>False</td>\n",
       "      <td>False</td>\n",
       "    </tr>\n",
       "    <tr>\n",
       "      <th>2</th>\n",
       "      <td>0</td>\n",
       "      <td>0.0</td>\n",
       "      <td>0</td>\n",
       "      <td>0.0</td>\n",
       "      <td>1</td>\n",
       "      <td>0.000000</td>\n",
       "      <td>0.200000</td>\n",
       "      <td>0.200000</td>\n",
       "      <td>0.0</td>\n",
       "      <td>0.0</td>\n",
       "      <td>Feb</td>\n",
       "      <td>4</td>\n",
       "      <td>1</td>\n",
       "      <td>9</td>\n",
       "      <td>3</td>\n",
       "      <td>Returning_Visitor</td>\n",
       "      <td>False</td>\n",
       "      <td>False</td>\n",
       "    </tr>\n",
       "    <tr>\n",
       "      <th>3</th>\n",
       "      <td>0</td>\n",
       "      <td>0.0</td>\n",
       "      <td>0</td>\n",
       "      <td>0.0</td>\n",
       "      <td>2</td>\n",
       "      <td>2.666667</td>\n",
       "      <td>0.050000</td>\n",
       "      <td>0.140000</td>\n",
       "      <td>0.0</td>\n",
       "      <td>0.0</td>\n",
       "      <td>Feb</td>\n",
       "      <td>3</td>\n",
       "      <td>2</td>\n",
       "      <td>2</td>\n",
       "      <td>4</td>\n",
       "      <td>Returning_Visitor</td>\n",
       "      <td>False</td>\n",
       "      <td>False</td>\n",
       "    </tr>\n",
       "    <tr>\n",
       "      <th>4</th>\n",
       "      <td>0</td>\n",
       "      <td>0.0</td>\n",
       "      <td>0</td>\n",
       "      <td>0.0</td>\n",
       "      <td>10</td>\n",
       "      <td>627.500000</td>\n",
       "      <td>0.020000</td>\n",
       "      <td>0.050000</td>\n",
       "      <td>0.0</td>\n",
       "      <td>0.0</td>\n",
       "      <td>Feb</td>\n",
       "      <td>3</td>\n",
       "      <td>3</td>\n",
       "      <td>1</td>\n",
       "      <td>4</td>\n",
       "      <td>Returning_Visitor</td>\n",
       "      <td>True</td>\n",
       "      <td>False</td>\n",
       "    </tr>\n",
       "    <tr>\n",
       "      <th>5</th>\n",
       "      <td>0</td>\n",
       "      <td>0.0</td>\n",
       "      <td>0</td>\n",
       "      <td>0.0</td>\n",
       "      <td>19</td>\n",
       "      <td>154.216667</td>\n",
       "      <td>0.015789</td>\n",
       "      <td>0.024561</td>\n",
       "      <td>0.0</td>\n",
       "      <td>0.0</td>\n",
       "      <td>Feb</td>\n",
       "      <td>2</td>\n",
       "      <td>2</td>\n",
       "      <td>1</td>\n",
       "      <td>3</td>\n",
       "      <td>Returning_Visitor</td>\n",
       "      <td>False</td>\n",
       "      <td>False</td>\n",
       "    </tr>\n",
       "    <tr>\n",
       "      <th>6</th>\n",
       "      <td>0</td>\n",
       "      <td>0.0</td>\n",
       "      <td>0</td>\n",
       "      <td>0.0</td>\n",
       "      <td>1</td>\n",
       "      <td>0.000000</td>\n",
       "      <td>0.200000</td>\n",
       "      <td>0.200000</td>\n",
       "      <td>0.0</td>\n",
       "      <td>0.4</td>\n",
       "      <td>Feb</td>\n",
       "      <td>2</td>\n",
       "      <td>4</td>\n",
       "      <td>3</td>\n",
       "      <td>3</td>\n",
       "      <td>Returning_Visitor</td>\n",
       "      <td>False</td>\n",
       "      <td>False</td>\n",
       "    </tr>\n",
       "    <tr>\n",
       "      <th>7</th>\n",
       "      <td>1</td>\n",
       "      <td>0.0</td>\n",
       "      <td>0</td>\n",
       "      <td>0.0</td>\n",
       "      <td>0</td>\n",
       "      <td>0.000000</td>\n",
       "      <td>0.200000</td>\n",
       "      <td>0.200000</td>\n",
       "      <td>0.0</td>\n",
       "      <td>0.0</td>\n",
       "      <td>Feb</td>\n",
       "      <td>1</td>\n",
       "      <td>2</td>\n",
       "      <td>1</td>\n",
       "      <td>5</td>\n",
       "      <td>Returning_Visitor</td>\n",
       "      <td>True</td>\n",
       "      <td>False</td>\n",
       "    </tr>\n",
       "    <tr>\n",
       "      <th>8</th>\n",
       "      <td>0</td>\n",
       "      <td>0.0</td>\n",
       "      <td>0</td>\n",
       "      <td>0.0</td>\n",
       "      <td>2</td>\n",
       "      <td>37.000000</td>\n",
       "      <td>0.000000</td>\n",
       "      <td>0.100000</td>\n",
       "      <td>0.0</td>\n",
       "      <td>0.8</td>\n",
       "      <td>Feb</td>\n",
       "      <td>2</td>\n",
       "      <td>2</td>\n",
       "      <td>2</td>\n",
       "      <td>3</td>\n",
       "      <td>Returning_Visitor</td>\n",
       "      <td>False</td>\n",
       "      <td>False</td>\n",
       "    </tr>\n",
       "    <tr>\n",
       "      <th>9</th>\n",
       "      <td>0</td>\n",
       "      <td>0.0</td>\n",
       "      <td>0</td>\n",
       "      <td>0.0</td>\n",
       "      <td>3</td>\n",
       "      <td>738.000000</td>\n",
       "      <td>0.000000</td>\n",
       "      <td>0.022222</td>\n",
       "      <td>0.0</td>\n",
       "      <td>0.4</td>\n",
       "      <td>Feb</td>\n",
       "      <td>2</td>\n",
       "      <td>4</td>\n",
       "      <td>1</td>\n",
       "      <td>2</td>\n",
       "      <td>Returning_Visitor</td>\n",
       "      <td>False</td>\n",
       "      <td>False</td>\n",
       "    </tr>\n",
       "    <tr>\n",
       "      <th>10</th>\n",
       "      <td>0</td>\n",
       "      <td>0.0</td>\n",
       "      <td>0</td>\n",
       "      <td>0.0</td>\n",
       "      <td>3</td>\n",
       "      <td>395.000000</td>\n",
       "      <td>0.000000</td>\n",
       "      <td>0.066667</td>\n",
       "      <td>0.0</td>\n",
       "      <td>0.0</td>\n",
       "      <td>Feb</td>\n",
       "      <td>1</td>\n",
       "      <td>1</td>\n",
       "      <td>3</td>\n",
       "      <td>3</td>\n",
       "      <td>Returning_Visitor</td>\n",
       "      <td>False</td>\n",
       "      <td>False</td>\n",
       "    </tr>\n",
       "    <tr>\n",
       "      <th>11</th>\n",
       "      <td>0</td>\n",
       "      <td>0.0</td>\n",
       "      <td>0</td>\n",
       "      <td>0.0</td>\n",
       "      <td>16</td>\n",
       "      <td>407.750000</td>\n",
       "      <td>0.018750</td>\n",
       "      <td>0.025833</td>\n",
       "      <td>0.0</td>\n",
       "      <td>0.4</td>\n",
       "      <td>Feb</td>\n",
       "      <td>1</td>\n",
       "      <td>1</td>\n",
       "      <td>4</td>\n",
       "      <td>3</td>\n",
       "      <td>Returning_Visitor</td>\n",
       "      <td>False</td>\n",
       "      <td>False</td>\n",
       "    </tr>\n",
       "    <tr>\n",
       "      <th>12</th>\n",
       "      <td>0</td>\n",
       "      <td>0.0</td>\n",
       "      <td>0</td>\n",
       "      <td>0.0</td>\n",
       "      <td>7</td>\n",
       "      <td>280.500000</td>\n",
       "      <td>0.000000</td>\n",
       "      <td>0.028571</td>\n",
       "      <td>0.0</td>\n",
       "      <td>0.0</td>\n",
       "      <td>Feb</td>\n",
       "      <td>1</td>\n",
       "      <td>1</td>\n",
       "      <td>1</td>\n",
       "      <td>3</td>\n",
       "      <td>Returning_Visitor</td>\n",
       "      <td>False</td>\n",
       "      <td>False</td>\n",
       "    </tr>\n",
       "    <tr>\n",
       "      <th>13</th>\n",
       "      <td>0</td>\n",
       "      <td>0.0</td>\n",
       "      <td>0</td>\n",
       "      <td>0.0</td>\n",
       "      <td>6</td>\n",
       "      <td>98.000000</td>\n",
       "      <td>0.000000</td>\n",
       "      <td>0.066667</td>\n",
       "      <td>0.0</td>\n",
       "      <td>0.0</td>\n",
       "      <td>Feb</td>\n",
       "      <td>2</td>\n",
       "      <td>5</td>\n",
       "      <td>1</td>\n",
       "      <td>3</td>\n",
       "      <td>Returning_Visitor</td>\n",
       "      <td>False</td>\n",
       "      <td>False</td>\n",
       "    </tr>\n",
       "  </tbody>\n",
       "</table>\n",
       "</div>"
      ],
      "text/plain": [
       "    Administrative  Administrative_Duration  Informational  \\\n",
       "0                0                      0.0              0   \n",
       "1                0                      0.0              0   \n",
       "2                0                      0.0              0   \n",
       "3                0                      0.0              0   \n",
       "4                0                      0.0              0   \n",
       "5                0                      0.0              0   \n",
       "6                0                      0.0              0   \n",
       "7                1                      0.0              0   \n",
       "8                0                      0.0              0   \n",
       "9                0                      0.0              0   \n",
       "10               0                      0.0              0   \n",
       "11               0                      0.0              0   \n",
       "12               0                      0.0              0   \n",
       "13               0                      0.0              0   \n",
       "\n",
       "    Informational_Duration  ProductRelated  ProductRelated_Duration  \\\n",
       "0                      0.0               1                 0.000000   \n",
       "1                      0.0               2                64.000000   \n",
       "2                      0.0               1                 0.000000   \n",
       "3                      0.0               2                 2.666667   \n",
       "4                      0.0              10               627.500000   \n",
       "5                      0.0              19               154.216667   \n",
       "6                      0.0               1                 0.000000   \n",
       "7                      0.0               0                 0.000000   \n",
       "8                      0.0               2                37.000000   \n",
       "9                      0.0               3               738.000000   \n",
       "10                     0.0               3               395.000000   \n",
       "11                     0.0              16               407.750000   \n",
       "12                     0.0               7               280.500000   \n",
       "13                     0.0               6                98.000000   \n",
       "\n",
       "    BounceRates  ExitRates  PageValues  SpecialDay Month  OperatingSystems  \\\n",
       "0      0.200000   0.200000         0.0         0.0   Feb                 1   \n",
       "1      0.000000   0.100000         0.0         0.0   Feb                 2   \n",
       "2      0.200000   0.200000         0.0         0.0   Feb                 4   \n",
       "3      0.050000   0.140000         0.0         0.0   Feb                 3   \n",
       "4      0.020000   0.050000         0.0         0.0   Feb                 3   \n",
       "5      0.015789   0.024561         0.0         0.0   Feb                 2   \n",
       "6      0.200000   0.200000         0.0         0.4   Feb                 2   \n",
       "7      0.200000   0.200000         0.0         0.0   Feb                 1   \n",
       "8      0.000000   0.100000         0.0         0.8   Feb                 2   \n",
       "9      0.000000   0.022222         0.0         0.4   Feb                 2   \n",
       "10     0.000000   0.066667         0.0         0.0   Feb                 1   \n",
       "11     0.018750   0.025833         0.0         0.4   Feb                 1   \n",
       "12     0.000000   0.028571         0.0         0.0   Feb                 1   \n",
       "13     0.000000   0.066667         0.0         0.0   Feb                 2   \n",
       "\n",
       "    Browser  Region  TrafficType        VisitorType  Weekend  Revenue  \n",
       "0         1       1            1  Returning_Visitor    False    False  \n",
       "1         2       1            2  Returning_Visitor    False    False  \n",
       "2         1       9            3  Returning_Visitor    False    False  \n",
       "3         2       2            4  Returning_Visitor    False    False  \n",
       "4         3       1            4  Returning_Visitor     True    False  \n",
       "5         2       1            3  Returning_Visitor    False    False  \n",
       "6         4       3            3  Returning_Visitor    False    False  \n",
       "7         2       1            5  Returning_Visitor     True    False  \n",
       "8         2       2            3  Returning_Visitor    False    False  \n",
       "9         4       1            2  Returning_Visitor    False    False  \n",
       "10        1       3            3  Returning_Visitor    False    False  \n",
       "11        1       4            3  Returning_Visitor    False    False  \n",
       "12        1       1            3  Returning_Visitor    False    False  \n",
       "13        5       1            3  Returning_Visitor    False    False  "
      ]
     },
     "execution_count": 3,
     "metadata": {},
     "output_type": "execute_result"
    }
   ],
   "source": [
    "#assessing the first 14 rows of our dataset\n",
    "df.head(14)"
   ]
  },
  {
   "cell_type": "code",
   "execution_count": 4,
   "metadata": {
    "colab": {
     "base_uri": "https://localhost:8080/"
    },
    "id": "GYzM1PpfNMK7",
    "outputId": "206629d7-dcf9-41e9-ce77-869562428a4c"
   },
   "outputs": [
    {
     "name": "stdout",
     "output_type": "stream",
     "text": [
      "<class 'pandas.core.frame.DataFrame'>\n",
      "RangeIndex: 12330 entries, 0 to 12329\n",
      "Data columns (total 18 columns):\n",
      " #   Column                   Non-Null Count  Dtype  \n",
      "---  ------                   --------------  -----  \n",
      " 0   Administrative           12330 non-null  int64  \n",
      " 1   Administrative_Duration  12330 non-null  float64\n",
      " 2   Informational            12330 non-null  int64  \n",
      " 3   Informational_Duration   12330 non-null  float64\n",
      " 4   ProductRelated           12330 non-null  int64  \n",
      " 5   ProductRelated_Duration  12330 non-null  float64\n",
      " 6   BounceRates              12330 non-null  float64\n",
      " 7   ExitRates                12330 non-null  float64\n",
      " 8   PageValues               12330 non-null  float64\n",
      " 9   SpecialDay               12330 non-null  float64\n",
      " 10  Month                    12330 non-null  object \n",
      " 11  OperatingSystems         12330 non-null  int64  \n",
      " 12  Browser                  12330 non-null  int64  \n",
      " 13  Region                   12330 non-null  int64  \n",
      " 14  TrafficType              12330 non-null  int64  \n",
      " 15  VisitorType              12330 non-null  object \n",
      " 16  Weekend                  12330 non-null  bool   \n",
      " 17  Revenue                  12330 non-null  bool   \n",
      "dtypes: bool(2), float64(7), int64(7), object(2)\n",
      "memory usage: 1.5+ MB\n"
     ]
    }
   ],
   "source": [
    "# Getting information about features in the dataframe\n",
    "df.info()"
   ]
  },
  {
   "cell_type": "code",
   "execution_count": 5,
   "metadata": {
    "colab": {
     "base_uri": "https://localhost:8080/"
    },
    "id": "kwO06IRvNMh8",
    "outputId": "c53982be-270d-4427-bcd1-63ef7b708a71"
   },
   "outputs": [
    {
     "data": {
      "text/plain": [
       "Administrative             0\n",
       "Administrative_Duration    0\n",
       "Informational              0\n",
       "Informational_Duration     0\n",
       "ProductRelated             0\n",
       "ProductRelated_Duration    0\n",
       "BounceRates                0\n",
       "ExitRates                  0\n",
       "PageValues                 0\n",
       "SpecialDay                 0\n",
       "Month                      0\n",
       "OperatingSystems           0\n",
       "Browser                    0\n",
       "Region                     0\n",
       "TrafficType                0\n",
       "VisitorType                0\n",
       "Weekend                    0\n",
       "Revenue                    0\n",
       "dtype: int64"
      ]
     },
     "execution_count": 5,
     "metadata": {},
     "output_type": "execute_result"
    }
   ],
   "source": [
    "# checking for null values here\n",
    "df.isnull().sum() "
   ]
  },
  {
   "cell_type": "markdown",
   "metadata": {
    "id": "k7pU06aQXALh"
   },
   "source": [
    "So it appears we have no null values in our dataframe, so we continue with our analysis."
   ]
  },
  {
   "cell_type": "markdown",
   "metadata": {
    "id": "f0FR_eLuXsHf"
   },
   "source": [
    "## Exploratory Data Analysis\n",
    "This very part of the project will take a majority of out time as it is the inception of investigating the data to find hidden outliers and patterns. We go further by plotting them into a visualization.\n",
    "The analysis techniques employed in the EDA takes three parts following as;\n",
    "* Univariate Analysis\n",
    "    \n",
    "* Bivariate Analysis\n",
    "\n",
    "* Linear Relationship\n",
    "\n",
    "In neach phase of these techniques, various corresponding columns would be explored since not all the columns features can be explored by all three analysis techniques.\n",
    "\n",
    "\n",
    "\n",
    "  "
   ]
  },
  {
   "cell_type": "markdown",
   "metadata": {
    "id": "7DpiVhibe5Gw"
   },
   "source": [
    "# Univariate Analysis\n",
    "Each feature or column of the dataframe is analyzed here to uncover the distribution or pattern of data. We begin analysing each of the following features in detail;\n",
    "* Revenue\n",
    "* Visitor type\n",
    "* Traffic type\n",
    "* Region\n",
    "* Weekend-wise distribution\n",
    "* Browser and Operating system\n",
    "* Special day\n",
    "\n",
    "We begin analysing each of the features above in detail to gain more insight on what we're at."
   ]
  },
  {
   "cell_type": "code",
   "execution_count": 6,
   "metadata": {},
   "outputs": [
    {
     "data": {
      "text/html": [
       "<style type=\"text/css\">\n",
       "#T_70d6e_row0_col0, #T_70d6e_row0_col1, #T_70d6e_row0_col2, #T_70d6e_row0_col3, #T_70d6e_row0_col4, #T_70d6e_row0_col6, #T_70d6e_row0_col7, #T_70d6e_row0_col8, #T_70d6e_row0_col9, #T_70d6e_row0_col10, #T_70d6e_row0_col11, #T_70d6e_row0_col12, #T_70d6e_row0_col13, #T_70d6e_row7_col5 {\n",
       "  background-color: #0000ff;\n",
       "  color: #f1f1f1;\n",
       "}\n",
       "#T_70d6e_row0_col5 {\n",
       "  background-color: #00ce98;\n",
       "  color: #000000;\n",
       "}\n",
       "#T_70d6e_row1_col0, #T_70d6e_row1_col2, #T_70d6e_row1_col3, #T_70d6e_row1_col4, #T_70d6e_row1_col6, #T_70d6e_row1_col7, #T_70d6e_row1_col8, #T_70d6e_row1_col9, #T_70d6e_row1_col10, #T_70d6e_row1_col11, #T_70d6e_row1_col12, #T_70d6e_row1_col13, #T_70d6e_row2_col0, #T_70d6e_row2_col2, #T_70d6e_row2_col4, #T_70d6e_row2_col6, #T_70d6e_row2_col7, #T_70d6e_row2_col8, #T_70d6e_row2_col9, #T_70d6e_row2_col10, #T_70d6e_row2_col11, #T_70d6e_row2_col12, #T_70d6e_row2_col13, #T_70d6e_row3_col0, #T_70d6e_row3_col1, #T_70d6e_row3_col2, #T_70d6e_row3_col3, #T_70d6e_row3_col4, #T_70d6e_row3_col5, #T_70d6e_row3_col6, #T_70d6e_row3_col7, #T_70d6e_row3_col8, #T_70d6e_row3_col9, #T_70d6e_row3_col10, #T_70d6e_row3_col11, #T_70d6e_row3_col12, #T_70d6e_row3_col13, #T_70d6e_row4_col0, #T_70d6e_row4_col1, #T_70d6e_row4_col2, #T_70d6e_row4_col3, #T_70d6e_row4_col4, #T_70d6e_row4_col5, #T_70d6e_row4_col6, #T_70d6e_row4_col7, #T_70d6e_row4_col8, #T_70d6e_row4_col9, #T_70d6e_row4_col10, #T_70d6e_row4_col11, #T_70d6e_row4_col12, #T_70d6e_row4_col13, #T_70d6e_row5_col0, #T_70d6e_row5_col1, #T_70d6e_row5_col2, #T_70d6e_row5_col3, #T_70d6e_row5_col4, #T_70d6e_row5_col6, #T_70d6e_row5_col7, #T_70d6e_row5_col8, #T_70d6e_row5_col9, #T_70d6e_row5_col10, #T_70d6e_row5_col11, #T_70d6e_row5_col12, #T_70d6e_row5_col13, #T_70d6e_row6_col0, #T_70d6e_row6_col2, #T_70d6e_row6_col3, #T_70d6e_row6_col4, #T_70d6e_row6_col6, #T_70d6e_row6_col7, #T_70d6e_row6_col8, #T_70d6e_row6_col9, #T_70d6e_row6_col10, #T_70d6e_row6_col11, #T_70d6e_row6_col12, #T_70d6e_row6_col13, #T_70d6e_row7_col0, #T_70d6e_row7_col2, #T_70d6e_row7_col6, #T_70d6e_row7_col7, #T_70d6e_row7_col9, #T_70d6e_row7_col10, #T_70d6e_row7_col11, #T_70d6e_row7_col12, #T_70d6e_row7_col13 {\n",
       "  background-color: #00ff80;\n",
       "  color: #000000;\n",
       "}\n",
       "#T_70d6e_row1_col1, #T_70d6e_row6_col1 {\n",
       "  background-color: #00fe80;\n",
       "  color: #000000;\n",
       "}\n",
       "#T_70d6e_row1_col5 {\n",
       "  background-color: #00fb82;\n",
       "  color: #000000;\n",
       "}\n",
       "#T_70d6e_row2_col1 {\n",
       "  background-color: #00fc81;\n",
       "  color: #000000;\n",
       "}\n",
       "#T_70d6e_row2_col3, #T_70d6e_row5_col5 {\n",
       "  background-color: #00fd80;\n",
       "  color: #000000;\n",
       "}\n",
       "#T_70d6e_row2_col5, #T_70d6e_row7_col8 {\n",
       "  background-color: #00f883;\n",
       "  color: #000000;\n",
       "}\n",
       "#T_70d6e_row6_col5 {\n",
       "  background-color: #00fa82;\n",
       "  color: #000000;\n",
       "}\n",
       "#T_70d6e_row7_col1 {\n",
       "  background-color: #00b9a2;\n",
       "  color: #f1f1f1;\n",
       "}\n",
       "#T_70d6e_row7_col3 {\n",
       "  background-color: #00cb9a;\n",
       "  color: #000000;\n",
       "}\n",
       "#T_70d6e_row7_col4 {\n",
       "  background-color: #00f186;\n",
       "  color: #000000;\n",
       "}\n",
       "</style>\n",
       "<table id=\"T_70d6e\">\n",
       "  <thead>\n",
       "    <tr>\n",
       "      <th class=\"blank level0\" >&nbsp;</th>\n",
       "      <th id=\"T_70d6e_level0_col0\" class=\"col_heading level0 col0\" >Administrative</th>\n",
       "      <th id=\"T_70d6e_level0_col1\" class=\"col_heading level0 col1\" >Administrative_Duration</th>\n",
       "      <th id=\"T_70d6e_level0_col2\" class=\"col_heading level0 col2\" >Informational</th>\n",
       "      <th id=\"T_70d6e_level0_col3\" class=\"col_heading level0 col3\" >Informational_Duration</th>\n",
       "      <th id=\"T_70d6e_level0_col4\" class=\"col_heading level0 col4\" >ProductRelated</th>\n",
       "      <th id=\"T_70d6e_level0_col5\" class=\"col_heading level0 col5\" >ProductRelated_Duration</th>\n",
       "      <th id=\"T_70d6e_level0_col6\" class=\"col_heading level0 col6\" >BounceRates</th>\n",
       "      <th id=\"T_70d6e_level0_col7\" class=\"col_heading level0 col7\" >ExitRates</th>\n",
       "      <th id=\"T_70d6e_level0_col8\" class=\"col_heading level0 col8\" >PageValues</th>\n",
       "      <th id=\"T_70d6e_level0_col9\" class=\"col_heading level0 col9\" >SpecialDay</th>\n",
       "      <th id=\"T_70d6e_level0_col10\" class=\"col_heading level0 col10\" >OperatingSystems</th>\n",
       "      <th id=\"T_70d6e_level0_col11\" class=\"col_heading level0 col11\" >Browser</th>\n",
       "      <th id=\"T_70d6e_level0_col12\" class=\"col_heading level0 col12\" >Region</th>\n",
       "      <th id=\"T_70d6e_level0_col13\" class=\"col_heading level0 col13\" >TrafficType</th>\n",
       "    </tr>\n",
       "  </thead>\n",
       "  <tbody>\n",
       "    <tr>\n",
       "      <th id=\"T_70d6e_level0_row0\" class=\"row_heading level0 row0\" >count</th>\n",
       "      <td id=\"T_70d6e_row0_col0\" class=\"data row0 col0\" >12330.000000</td>\n",
       "      <td id=\"T_70d6e_row0_col1\" class=\"data row0 col1\" >12330.000000</td>\n",
       "      <td id=\"T_70d6e_row0_col2\" class=\"data row0 col2\" >12330.000000</td>\n",
       "      <td id=\"T_70d6e_row0_col3\" class=\"data row0 col3\" >12330.000000</td>\n",
       "      <td id=\"T_70d6e_row0_col4\" class=\"data row0 col4\" >12330.000000</td>\n",
       "      <td id=\"T_70d6e_row0_col5\" class=\"data row0 col5\" >12330.000000</td>\n",
       "      <td id=\"T_70d6e_row0_col6\" class=\"data row0 col6\" >12330.000000</td>\n",
       "      <td id=\"T_70d6e_row0_col7\" class=\"data row0 col7\" >12330.000000</td>\n",
       "      <td id=\"T_70d6e_row0_col8\" class=\"data row0 col8\" >12330.000000</td>\n",
       "      <td id=\"T_70d6e_row0_col9\" class=\"data row0 col9\" >12330.000000</td>\n",
       "      <td id=\"T_70d6e_row0_col10\" class=\"data row0 col10\" >12330.000000</td>\n",
       "      <td id=\"T_70d6e_row0_col11\" class=\"data row0 col11\" >12330.000000</td>\n",
       "      <td id=\"T_70d6e_row0_col12\" class=\"data row0 col12\" >12330.000000</td>\n",
       "      <td id=\"T_70d6e_row0_col13\" class=\"data row0 col13\" >12330.000000</td>\n",
       "    </tr>\n",
       "    <tr>\n",
       "      <th id=\"T_70d6e_level0_row1\" class=\"row_heading level0 row1\" >mean</th>\n",
       "      <td id=\"T_70d6e_row1_col0\" class=\"data row1 col0\" >2.315166</td>\n",
       "      <td id=\"T_70d6e_row1_col1\" class=\"data row1 col1\" >80.818611</td>\n",
       "      <td id=\"T_70d6e_row1_col2\" class=\"data row1 col2\" >0.503569</td>\n",
       "      <td id=\"T_70d6e_row1_col3\" class=\"data row1 col3\" >34.472398</td>\n",
       "      <td id=\"T_70d6e_row1_col4\" class=\"data row1 col4\" >31.731468</td>\n",
       "      <td id=\"T_70d6e_row1_col5\" class=\"data row1 col5\" >1194.746220</td>\n",
       "      <td id=\"T_70d6e_row1_col6\" class=\"data row1 col6\" >0.022191</td>\n",
       "      <td id=\"T_70d6e_row1_col7\" class=\"data row1 col7\" >0.043073</td>\n",
       "      <td id=\"T_70d6e_row1_col8\" class=\"data row1 col8\" >5.889258</td>\n",
       "      <td id=\"T_70d6e_row1_col9\" class=\"data row1 col9\" >0.061427</td>\n",
       "      <td id=\"T_70d6e_row1_col10\" class=\"data row1 col10\" >2.124006</td>\n",
       "      <td id=\"T_70d6e_row1_col11\" class=\"data row1 col11\" >2.357097</td>\n",
       "      <td id=\"T_70d6e_row1_col12\" class=\"data row1 col12\" >3.147364</td>\n",
       "      <td id=\"T_70d6e_row1_col13\" class=\"data row1 col13\" >4.069586</td>\n",
       "    </tr>\n",
       "    <tr>\n",
       "      <th id=\"T_70d6e_level0_row2\" class=\"row_heading level0 row2\" >std</th>\n",
       "      <td id=\"T_70d6e_row2_col0\" class=\"data row2 col0\" >3.321784</td>\n",
       "      <td id=\"T_70d6e_row2_col1\" class=\"data row2 col1\" >176.779107</td>\n",
       "      <td id=\"T_70d6e_row2_col2\" class=\"data row2 col2\" >1.270156</td>\n",
       "      <td id=\"T_70d6e_row2_col3\" class=\"data row2 col3\" >140.749294</td>\n",
       "      <td id=\"T_70d6e_row2_col4\" class=\"data row2 col4\" >44.475503</td>\n",
       "      <td id=\"T_70d6e_row2_col5\" class=\"data row2 col5\" >1913.669288</td>\n",
       "      <td id=\"T_70d6e_row2_col6\" class=\"data row2 col6\" >0.048488</td>\n",
       "      <td id=\"T_70d6e_row2_col7\" class=\"data row2 col7\" >0.048597</td>\n",
       "      <td id=\"T_70d6e_row2_col8\" class=\"data row2 col8\" >18.568437</td>\n",
       "      <td id=\"T_70d6e_row2_col9\" class=\"data row2 col9\" >0.198917</td>\n",
       "      <td id=\"T_70d6e_row2_col10\" class=\"data row2 col10\" >0.911325</td>\n",
       "      <td id=\"T_70d6e_row2_col11\" class=\"data row2 col11\" >1.717277</td>\n",
       "      <td id=\"T_70d6e_row2_col12\" class=\"data row2 col12\" >2.401591</td>\n",
       "      <td id=\"T_70d6e_row2_col13\" class=\"data row2 col13\" >4.025169</td>\n",
       "    </tr>\n",
       "    <tr>\n",
       "      <th id=\"T_70d6e_level0_row3\" class=\"row_heading level0 row3\" >min</th>\n",
       "      <td id=\"T_70d6e_row3_col0\" class=\"data row3 col0\" >0.000000</td>\n",
       "      <td id=\"T_70d6e_row3_col1\" class=\"data row3 col1\" >0.000000</td>\n",
       "      <td id=\"T_70d6e_row3_col2\" class=\"data row3 col2\" >0.000000</td>\n",
       "      <td id=\"T_70d6e_row3_col3\" class=\"data row3 col3\" >0.000000</td>\n",
       "      <td id=\"T_70d6e_row3_col4\" class=\"data row3 col4\" >0.000000</td>\n",
       "      <td id=\"T_70d6e_row3_col5\" class=\"data row3 col5\" >0.000000</td>\n",
       "      <td id=\"T_70d6e_row3_col6\" class=\"data row3 col6\" >0.000000</td>\n",
       "      <td id=\"T_70d6e_row3_col7\" class=\"data row3 col7\" >0.000000</td>\n",
       "      <td id=\"T_70d6e_row3_col8\" class=\"data row3 col8\" >0.000000</td>\n",
       "      <td id=\"T_70d6e_row3_col9\" class=\"data row3 col9\" >0.000000</td>\n",
       "      <td id=\"T_70d6e_row3_col10\" class=\"data row3 col10\" >1.000000</td>\n",
       "      <td id=\"T_70d6e_row3_col11\" class=\"data row3 col11\" >1.000000</td>\n",
       "      <td id=\"T_70d6e_row3_col12\" class=\"data row3 col12\" >1.000000</td>\n",
       "      <td id=\"T_70d6e_row3_col13\" class=\"data row3 col13\" >1.000000</td>\n",
       "    </tr>\n",
       "    <tr>\n",
       "      <th id=\"T_70d6e_level0_row4\" class=\"row_heading level0 row4\" >25%</th>\n",
       "      <td id=\"T_70d6e_row4_col0\" class=\"data row4 col0\" >0.000000</td>\n",
       "      <td id=\"T_70d6e_row4_col1\" class=\"data row4 col1\" >0.000000</td>\n",
       "      <td id=\"T_70d6e_row4_col2\" class=\"data row4 col2\" >0.000000</td>\n",
       "      <td id=\"T_70d6e_row4_col3\" class=\"data row4 col3\" >0.000000</td>\n",
       "      <td id=\"T_70d6e_row4_col4\" class=\"data row4 col4\" >7.000000</td>\n",
       "      <td id=\"T_70d6e_row4_col5\" class=\"data row4 col5\" >184.137500</td>\n",
       "      <td id=\"T_70d6e_row4_col6\" class=\"data row4 col6\" >0.000000</td>\n",
       "      <td id=\"T_70d6e_row4_col7\" class=\"data row4 col7\" >0.014286</td>\n",
       "      <td id=\"T_70d6e_row4_col8\" class=\"data row4 col8\" >0.000000</td>\n",
       "      <td id=\"T_70d6e_row4_col9\" class=\"data row4 col9\" >0.000000</td>\n",
       "      <td id=\"T_70d6e_row4_col10\" class=\"data row4 col10\" >2.000000</td>\n",
       "      <td id=\"T_70d6e_row4_col11\" class=\"data row4 col11\" >2.000000</td>\n",
       "      <td id=\"T_70d6e_row4_col12\" class=\"data row4 col12\" >1.000000</td>\n",
       "      <td id=\"T_70d6e_row4_col13\" class=\"data row4 col13\" >2.000000</td>\n",
       "    </tr>\n",
       "    <tr>\n",
       "      <th id=\"T_70d6e_level0_row5\" class=\"row_heading level0 row5\" >50%</th>\n",
       "      <td id=\"T_70d6e_row5_col0\" class=\"data row5 col0\" >1.000000</td>\n",
       "      <td id=\"T_70d6e_row5_col1\" class=\"data row5 col1\" >7.500000</td>\n",
       "      <td id=\"T_70d6e_row5_col2\" class=\"data row5 col2\" >0.000000</td>\n",
       "      <td id=\"T_70d6e_row5_col3\" class=\"data row5 col3\" >0.000000</td>\n",
       "      <td id=\"T_70d6e_row5_col4\" class=\"data row5 col4\" >18.000000</td>\n",
       "      <td id=\"T_70d6e_row5_col5\" class=\"data row5 col5\" >598.936905</td>\n",
       "      <td id=\"T_70d6e_row5_col6\" class=\"data row5 col6\" >0.003112</td>\n",
       "      <td id=\"T_70d6e_row5_col7\" class=\"data row5 col7\" >0.025156</td>\n",
       "      <td id=\"T_70d6e_row5_col8\" class=\"data row5 col8\" >0.000000</td>\n",
       "      <td id=\"T_70d6e_row5_col9\" class=\"data row5 col9\" >0.000000</td>\n",
       "      <td id=\"T_70d6e_row5_col10\" class=\"data row5 col10\" >2.000000</td>\n",
       "      <td id=\"T_70d6e_row5_col11\" class=\"data row5 col11\" >2.000000</td>\n",
       "      <td id=\"T_70d6e_row5_col12\" class=\"data row5 col12\" >3.000000</td>\n",
       "      <td id=\"T_70d6e_row5_col13\" class=\"data row5 col13\" >2.000000</td>\n",
       "    </tr>\n",
       "    <tr>\n",
       "      <th id=\"T_70d6e_level0_row6\" class=\"row_heading level0 row6\" >75%</th>\n",
       "      <td id=\"T_70d6e_row6_col0\" class=\"data row6 col0\" >4.000000</td>\n",
       "      <td id=\"T_70d6e_row6_col1\" class=\"data row6 col1\" >93.256250</td>\n",
       "      <td id=\"T_70d6e_row6_col2\" class=\"data row6 col2\" >0.000000</td>\n",
       "      <td id=\"T_70d6e_row6_col3\" class=\"data row6 col3\" >0.000000</td>\n",
       "      <td id=\"T_70d6e_row6_col4\" class=\"data row6 col4\" >38.000000</td>\n",
       "      <td id=\"T_70d6e_row6_col5\" class=\"data row6 col5\" >1464.157214</td>\n",
       "      <td id=\"T_70d6e_row6_col6\" class=\"data row6 col6\" >0.016813</td>\n",
       "      <td id=\"T_70d6e_row6_col7\" class=\"data row6 col7\" >0.050000</td>\n",
       "      <td id=\"T_70d6e_row6_col8\" class=\"data row6 col8\" >0.000000</td>\n",
       "      <td id=\"T_70d6e_row6_col9\" class=\"data row6 col9\" >0.000000</td>\n",
       "      <td id=\"T_70d6e_row6_col10\" class=\"data row6 col10\" >3.000000</td>\n",
       "      <td id=\"T_70d6e_row6_col11\" class=\"data row6 col11\" >2.000000</td>\n",
       "      <td id=\"T_70d6e_row6_col12\" class=\"data row6 col12\" >4.000000</td>\n",
       "      <td id=\"T_70d6e_row6_col13\" class=\"data row6 col13\" >4.000000</td>\n",
       "    </tr>\n",
       "    <tr>\n",
       "      <th id=\"T_70d6e_level0_row7\" class=\"row_heading level0 row7\" >max</th>\n",
       "      <td id=\"T_70d6e_row7_col0\" class=\"data row7 col0\" >27.000000</td>\n",
       "      <td id=\"T_70d6e_row7_col1\" class=\"data row7 col1\" >3398.750000</td>\n",
       "      <td id=\"T_70d6e_row7_col2\" class=\"data row7 col2\" >24.000000</td>\n",
       "      <td id=\"T_70d6e_row7_col3\" class=\"data row7 col3\" >2549.375000</td>\n",
       "      <td id=\"T_70d6e_row7_col4\" class=\"data row7 col4\" >705.000000</td>\n",
       "      <td id=\"T_70d6e_row7_col5\" class=\"data row7 col5\" >63973.522230</td>\n",
       "      <td id=\"T_70d6e_row7_col6\" class=\"data row7 col6\" >0.200000</td>\n",
       "      <td id=\"T_70d6e_row7_col7\" class=\"data row7 col7\" >0.200000</td>\n",
       "      <td id=\"T_70d6e_row7_col8\" class=\"data row7 col8\" >361.763742</td>\n",
       "      <td id=\"T_70d6e_row7_col9\" class=\"data row7 col9\" >1.000000</td>\n",
       "      <td id=\"T_70d6e_row7_col10\" class=\"data row7 col10\" >8.000000</td>\n",
       "      <td id=\"T_70d6e_row7_col11\" class=\"data row7 col11\" >13.000000</td>\n",
       "      <td id=\"T_70d6e_row7_col12\" class=\"data row7 col12\" >9.000000</td>\n",
       "      <td id=\"T_70d6e_row7_col13\" class=\"data row7 col13\" >20.000000</td>\n",
       "    </tr>\n",
       "  </tbody>\n",
       "</table>\n"
      ],
      "text/plain": [
       "<pandas.io.formats.style.Styler at 0x1f58bcd13c0>"
      ]
     },
     "execution_count": 6,
     "metadata": {},
     "output_type": "execute_result"
    }
   ],
   "source": [
    "# looking at the summary statistics of the data\n",
    "df.describe().style.background_gradient(cmap = 'winter_r')"
   ]
  },
  {
   "cell_type": "markdown",
   "metadata": {
    "id": "vcBz6eSMXrFH"
   },
   "source": [
    "### Baseline Conversion (Rate From The [Revenue] Column)\n",
    "Here, we're looking at the number of online shopping sessions that ended in a purchase(s). The conversion rate is then calculated."
   ]
  },
  {
   "cell_type": "code",
   "execution_count": 7,
   "metadata": {},
   "outputs": [
    {
     "data": {
      "text/plain": [
       "dtype('bool')"
      ]
     },
     "execution_count": 7,
     "metadata": {},
     "output_type": "execute_result"
    }
   ],
   "source": [
    "#dtype of the Revenue feature\n",
    "df.Revenue.dtype"
   ]
  },
  {
   "cell_type": "code",
   "execution_count": 45,
   "metadata": {},
   "outputs": [
    {
     "data": {
      "image/png": "[encoded data removed]",
      "text/plain": [
       "<Figure size 640x480 with 1 Axes>"
      ]
     },
     "metadata": {},
     "output_type": "display_data"
    }
   ],
   "source": [
    "# visualizing a countplot of the revenue column\n",
    "sns.countplot(data = df, x = 'Revenue')\n",
    "plt.title(\"Baseline Revenue Conversion\",fontsize = 14, color = 'blue')\n",
    "plt.show()"
   ]
  },
  {
   "cell_type": "markdown",
   "metadata": {},
   "source": [
    "The preceeding countplot shows **False** having a higher count compared to **True**.                                \n",
    "Remember the [Revenue] column is of a boolean dtype."
   ]
  },
  {
   "cell_type": "code",
   "execution_count": 9,
   "metadata": {},
   "outputs": [
    {
     "name": "stdout",
     "output_type": "stream",
     "text": [
      "False    10422\n",
      "True      1908\n",
      "Name: Revenue, dtype: int64\n",
      "\n",
      "False    0.845255\n",
      "True     0.154745\n",
      "Name: Revenue, dtype: float64\n"
     ]
    }
   ],
   "source": [
    "# the value counts of each subcategory in our feature, the exact values needed for calculating the conversion rate\n",
    "print(df['Revenue'].value_counts())\n",
    "print()\n",
    "print(df['Revenue'].value_counts(normalize = True))"
   ]
  },
  {
   "cell_type": "markdown",
   "metadata": {},
   "source": [
    "From the preceding data, a total of 1908 ended up making a purchase, while 10422 did not make any.\n",
    "The conversion rate of online visitors versus overall visitors is the ratio between the total number of online sessions that led to a purchase divided by the total number of sessions. This is calculated as:"
   ]
  },
  {
   "cell_type": "code",
   "execution_count": 10,
   "metadata": {},
   "outputs": [
    {
     "data": {
      "text/plain": [
       "15.474452554744525"
      ]
     },
     "execution_count": 10,
     "metadata": {},
     "output_type": "execute_result"
    }
   ],
   "source": [
    "1908 / 12330 * 100"
   ]
  },
  {
   "cell_type": "markdown",
   "metadata": {},
   "source": [
    "With 12,330 depicting the overall number of visitors, the conversion rate calculated was 15.47%"
   ]
  },
  {
   "cell_type": "code",
   "execution_count": null,
   "metadata": {},
   "outputs": [],
   "source": []
  },
  {
   "cell_type": "markdown",
   "metadata": {},
   "source": [
    "### Visitor - Wise Distribution\n",
    "We further our analysis by looking at the distribution of visitors to the website, to determine the visitor type that is most frequent. It is determined whether they are new visitors, returning visitors or visitors of any other category."
   ]
  },
  {
   "cell_type": "code",
   "execution_count": 44,
   "metadata": {},
   "outputs": [
    {
     "data": {
      "image/png": "[encoded data removed]",
      "text/plain": [
       "<Figure size 640x480 with 1 Axes>"
      ]
     },
     "metadata": {},
     "output_type": "display_data"
    }
   ],
   "source": [
    "# visualizing a countplot of the VisitorType column\n",
    "sns.countplot(data = df, x = 'VisitorType')\n",
    "plt.title(\"Visitor Type Distribution of Our Online Shoppers\",fontsize = 14, color = 'blue')\n",
    "plt.show()"
   ]
  },
  {
   "cell_type": "code",
   "execution_count": 12,
   "metadata": {},
   "outputs": [
    {
     "name": "stdout",
     "output_type": "stream",
     "text": [
      "Returning_Visitor    10551\n",
      "New_Visitor           1694\n",
      "Other                   85\n",
      "Name: VisitorType, dtype: int64\n",
      "\n",
      "Returning_Visitor    0.855718\n",
      "New_Visitor          0.137388\n",
      "Other                0.006894\n",
      "Name: VisitorType, dtype: float64\n"
     ]
    }
   ],
   "source": [
    "#looking at the value counts of each visitor type \n",
    "print(df['VisitorType'].value_counts())\n",
    "print()\n",
    "\n",
    "\"\"\"Setting the normalize parameter to True normalizes the counts to proportions or percentages, \n",
    "such that the output shows the relative frequency of each unique value as a percentage of the total number of observations \n",
    "in the VisitorType column.\"\"\"\n",
    "\n",
    "print(df['VisitorType'].value_counts(normalize = True))"
   ]
  },
  {
   "cell_type": "markdown",
   "metadata": {},
   "source": [
    "The preceding data shows a higher number of returning visitors compared to that of new visitors. It is quite safe to assume \n",
    "there's much success in attracting customers back to the website as shown in the countplot too."
   ]
  },
  {
   "cell_type": "code",
   "execution_count": null,
   "metadata": {},
   "outputs": [],
   "source": []
  },
  {
   "cell_type": "markdown",
   "metadata": {},
   "source": [
    "### Traffic-Wise Distribution\n",
    "Considering this feature, we want to find out just how the visitors visit our webpage to help\n",
    "1. Determine the amount of site trafffic accounted for by direct visitors\n",
    "2. how much is generated through other mediums, such as blogs, advertisements, to mention a few."
   ]
  },
  {
   "cell_type": "code",
   "execution_count": 43,
   "metadata": {},
   "outputs": [
    {
     "data": {
      "image/png": "[encoded data removed]",
      "text/plain": [
       "<Figure size 640x480 with 1 Axes>"
      ]
     },
     "metadata": {},
     "output_type": "display_data"
    }
   ],
   "source": [
    "# visualizing a countplot of the TrafficType column\n",
    "sns.countplot(data = df, x = 'TrafficType')\n",
    "plt.title(\"Traffic-Wise Distribution\",fontsize = 13, color = 'blue')\n",
    "plt.show()"
   ]
  },
  {
   "cell_type": "markdown",
   "metadata": {},
   "source": [
    "Type 2 appers to have the highest count amongst all the types."
   ]
  },
  {
   "cell_type": "code",
   "execution_count": 14,
   "metadata": {},
   "outputs": [
    {
     "data": {
      "text/plain": [
       "2     0.317356\n",
       "1     0.198783\n",
       "3     0.166423\n",
       "4     0.086699\n",
       "13    0.059854\n",
       "10    0.036496\n",
       "6     0.036010\n",
       "8     0.027818\n",
       "5     0.021087\n",
       "11    0.020032\n",
       "20    0.016058\n",
       "9     0.003406\n",
       "7     0.003244\n",
       "15    0.003082\n",
       "19    0.001379\n",
       "14    0.001054\n",
       "18    0.000811\n",
       "16    0.000243\n",
       "12    0.000081\n",
       "17    0.000081\n",
       "Name: TrafficType, dtype: float64"
      ]
     },
     "execution_count": 14,
     "metadata": {},
     "output_type": "execute_result"
    }
   ],
   "source": [
    "\"\"\"the line of code below counts the number of occurrences of each unique value in the 'TrafficType' column. \n",
    "The normalize parameter is set to True which returns the relative frequencies of each unique value instead\n",
    "of the absolute counts\"\"\"\n",
    "\n",
    "df.TrafficType.value_counts(normalize = True)"
   ]
  },
  {
   "cell_type": "markdown",
   "metadata": {},
   "source": [
    "The preceding result is evident enough that sources 2,1,3 and 4 respectively accounted for majority of our web traffic."
   ]
  },
  {
   "cell_type": "code",
   "execution_count": null,
   "metadata": {},
   "outputs": [],
   "source": []
  },
  {
   "cell_type": "markdown",
   "metadata": {},
   "source": [
    "### Analysing The Distribution Of Customers Session Online\n",
    "This part of our analysis takes the distribution of customers over the days of the week to determine whether customers are more \n",
    "or less active during the weekdays or weekens. "
   ]
  },
  {
   "cell_type": "code",
   "execution_count": 42,
   "metadata": {},
   "outputs": [
    {
     "data": {
      "image/png": "[encoded data removed]",
      "text/plain": [
       "<Figure size 640x480 with 1 Axes>"
      ]
     },
     "metadata": {},
     "output_type": "display_data"
    }
   ],
   "source": [
    "# visualizing a countplot of the Weekend column\n",
    "sns.countplot(data = df, x = 'Weekend')\n",
    "plt.title(\"Weekend Distribution of Our Online Shoppers\",fontsize = 13, color = 'blue')\n",
    "plt.show()"
   ]
  },
  {
   "cell_type": "markdown",
   "metadata": {},
   "source": [
    "Looks like we've got more customers active on the weekdays compared to the weekends."
   ]
  },
  {
   "cell_type": "code",
   "execution_count": 16,
   "metadata": {},
   "outputs": [
    {
     "name": "stdout",
     "output_type": "stream",
     "text": [
      "False    9462\n",
      "True     2868\n",
      "Name: Weekend, dtype: int64\n",
      "\n",
      "False    0.767397\n",
      "True     0.232603\n",
      "Name: Weekend, dtype: float64\n"
     ]
    }
   ],
   "source": [
    "# the value counts of each subcategory in our feature\n",
    "print(df['Weekend'].value_counts())\n",
    "print()\n",
    "print(df['Weekend'].value_counts(normalize = True))"
   ]
  },
  {
   "cell_type": "markdown",
   "metadata": {},
   "source": [
    "The data shows that out of the 12330 online visits by customers to the website,\n",
    "\n",
    "    9462 active customers visit the website on Weekdays     \n",
    "    2868 active customers visit the website on Weekends     \n",
    "More visitors visit the website during weekdays than weekends"
   ]
  },
  {
   "cell_type": "code",
   "execution_count": null,
   "metadata": {},
   "outputs": [],
   "source": []
  },
  {
   "cell_type": "markdown",
   "metadata": {},
   "source": [
    "### Region - Wise Distribution \n",
    "Region - Wise Distribution analysis is to find out which region has the highest number of visitors to out shopping website.\n"
   ]
  },
  {
   "cell_type": "code",
   "execution_count": 41,
   "metadata": {},
   "outputs": [
    {
     "data": {
      "image/png": "[encoded data removed]",
      "text/plain": [
       "<Figure size 640x480 with 1 Axes>"
      ]
     },
     "metadata": {},
     "output_type": "display_data"
    }
   ],
   "source": [
    "# visualizing a countplot of the Region column\n",
    "sns.countplot(data = df, x = 'Region')\n",
    "plt.title(\"Region-Wise Distribution Of Our Online Shoppers\",fontsize = 13, color = 'blue')\n",
    "plt.show()"
   ]
  },
  {
   "cell_type": "markdown",
   "metadata": {},
   "source": [
    "Our source data had numbers represennting the different diverse regions our customers are access our website from.\n",
    "From the graph above, Region 1 is seen to have the highest numbers of customer visits to our website, that of Region 3 and 4 are pretty high too. "
   ]
  },
  {
   "cell_type": "code",
   "execution_count": 18,
   "metadata": {},
   "outputs": [
    {
     "name": "stdout",
     "output_type": "stream",
     "text": [
      "1    4780\n",
      "3    2403\n",
      "4    1182\n",
      "2    1136\n",
      "6     805\n",
      "7     761\n",
      "9     511\n",
      "8     434\n",
      "5     318\n",
      "Name: Region, dtype: int64\n",
      "\n",
      "1    0.387672\n",
      "3    0.194891\n",
      "4    0.095864\n",
      "2    0.092133\n",
      "6    0.065288\n",
      "7    0.061719\n",
      "9    0.041444\n",
      "8    0.035199\n",
      "5    0.025791\n",
      "Name: Region, dtype: float64\n"
     ]
    }
   ],
   "source": [
    "# the value counts of each subcategory in our feature\n",
    "print(df['Region'].value_counts())\n",
    "print()\n",
    "print(df['Region'].value_counts(normalize = True))"
   ]
  },
  {
   "cell_type": "markdown",
   "metadata": {},
   "source": [
    "Our most potential customers in Region 1 and 3 collectively accounted for 50% of customer online sessions. These two regions are likely going to be the best targets for our marketing camppaigns."
   ]
  },
  {
   "cell_type": "code",
   "execution_count": null,
   "metadata": {},
   "outputs": [],
   "source": []
  },
  {
   "cell_type": "markdown",
   "metadata": {},
   "source": [
    "### Analysing The Browser And Operating Systems Of Customers\n",
    "The aim of this analysis is to aid in configuring our website to make it more responsive, reliable and user-friendly across multiple browser softwares and Operating Systems for our dear customers."
   ]
  },
  {
   "cell_type": "markdown",
   "metadata": {},
   "source": [
    "### The Browser Type"
   ]
  },
  {
   "cell_type": "code",
   "execution_count": 40,
   "metadata": {},
   "outputs": [
    {
     "data": {
      "image/png": "[encoded data removed]",
      "text/plain": [
       "<Figure size 640x480 with 1 Axes>"
      ]
     },
     "metadata": {},
     "output_type": "display_data"
    }
   ],
   "source": [
    "# visualizing a countplot of the Browser column\n",
    "sns.countplot(data = df, x = 'Browser')\n",
    "plt.title(\"Browser-wise Distribution Of Our Online Shoppers\",fontsize = 13, color = 'blue')\n",
    "plt.show()"
   ]
  },
  {
   "cell_type": "markdown",
   "metadata": {},
   "source": [
    "The browser type 2, emerges with the highest count of users thereby contributing the most to web trraffic on our site. "
   ]
  },
  {
   "cell_type": "code",
   "execution_count": 20,
   "metadata": {},
   "outputs": [
    {
     "name": "stdout",
     "output_type": "stream",
     "text": [
      "2     7961\n",
      "1     2462\n",
      "4      736\n",
      "5      467\n",
      "6      174\n",
      "10     163\n",
      "8      135\n",
      "3      105\n",
      "13      61\n",
      "7       49\n",
      "12      10\n",
      "11       6\n",
      "9        1\n",
      "Name: Browser, dtype: int64\n",
      "\n",
      "2     0.645661\n",
      "1     0.199676\n",
      "4     0.059692\n",
      "5     0.037875\n",
      "6     0.014112\n",
      "10    0.013220\n",
      "8     0.010949\n",
      "3     0.008516\n",
      "13    0.004947\n",
      "7     0.003974\n",
      "12    0.000811\n",
      "11    0.000487\n",
      "9     0.000081\n",
      "Name: Browser, dtype: float64\n"
     ]
    }
   ],
   "source": [
    "# the value counts of each subcategory in our feature\n",
    "print(df['Browser'].value_counts())\n",
    "print()\n",
    "print(df['Browser'].value_counts(normalize = True))"
   ]
  },
  {
   "cell_type": "markdown",
   "metadata": {},
   "source": [
    "### The Operating System Type of Customers"
   ]
  },
  {
   "cell_type": "code",
   "execution_count": 39,
   "metadata": {},
   "outputs": [
    {
     "data": {
      "image/png": "[encoded data removed]",
      "text/plain": [
       "<Figure size 640x480 with 1 Axes>"
      ]
     },
     "metadata": {},
     "output_type": "display_data"
    }
   ],
   "source": [
    "# visualizing a countplot of the Browser column\n",
    "sns.countplot(data = df, x = 'OperatingSystems')\n",
    "plt.title(\"Distribution Of Our Online Shoppers Operating System Types\",fontsize = 13, color='blue')\n",
    "plt.show()"
   ]
  },
  {
   "cell_type": "markdown",
   "metadata": {},
   "source": [
    "The Operating Sysytem tpe 2 has the highest count, thus contributing the most to website traffic."
   ]
  },
  {
   "cell_type": "code",
   "execution_count": 22,
   "metadata": {},
   "outputs": [
    {
     "name": "stdout",
     "output_type": "stream",
     "text": [
      "2    6601\n",
      "1    2585\n",
      "3    2555\n",
      "4     478\n",
      "8      79\n",
      "6      19\n",
      "7       7\n",
      "5       6\n",
      "Name: OperatingSystems, dtype: int64\n",
      "\n",
      "2    0.535361\n",
      "1    0.209651\n",
      "3    0.207218\n",
      "4    0.038767\n",
      "8    0.006407\n",
      "6    0.001541\n",
      "7    0.000568\n",
      "5    0.000487\n",
      "Name: OperatingSystems, dtype: float64\n"
     ]
    }
   ],
   "source": [
    "# the value counts of each subcategory in our feature\n",
    "print(df['OperatingSystems'].value_counts())\n",
    "print()\n",
    "print(df['OperatingSystems'].value_counts(normalize = True))"
   ]
  },
  {
   "cell_type": "markdown",
   "metadata": {},
   "source": [
    "Fron the precedinng information, the OperatingSystem types, 2, 1, and 3 respectively, contribute most to website traffic."
   ]
  },
  {
   "cell_type": "code",
   "execution_count": null,
   "metadata": {},
   "outputs": [],
   "source": []
  },
  {
   "cell_type": "markdown",
   "metadata": {},
   "source": [
    "### Distribution Of Customer Website Visits On Special Days \n",
    "This session analysis the number of visitors we have on our website during special days. \n",
    "We would like to know whether special days like National/public holidays, Valentines days, Festive seasons, affects the number of customers that visit our website. "
   ]
  },
  {
   "cell_type": "code",
   "execution_count": 46,
   "metadata": {},
   "outputs": [
    {
     "data": {
      "image/png": "[encoded data removed]",
      "text/plain": [
       "<Figure size 640x480 with 1 Axes>"
      ]
     },
     "metadata": {},
     "output_type": "display_data"
    }
   ],
   "source": [
    "# visualizing a countplot of the SpecialDay column\n",
    "sns.countplot(data = df, x = 'SpecialDay')\n",
    "plt.title(\"Special Days Session Distribution Of Our Customers\",fontsize = 14, color = 'blue')\n",
    "plt.show()"
   ]
  },
  {
   "cell_type": "markdown",
   "metadata": {},
   "source": [
    "Special days clearly have no efffect or impact on the number of customer turnouts on our website."
   ]
  },
  {
   "cell_type": "code",
   "execution_count": 24,
   "metadata": {},
   "outputs": [
    {
     "name": "stdout",
     "output_type": "stream",
     "text": [
      "0.0    0.898540\n",
      "0.6    0.028467\n",
      "0.8    0.026358\n",
      "0.4    0.019708\n",
      "0.2    0.014436\n",
      "1.0    0.012490\n",
      "Name: SpecialDay, dtype: float64\n"
     ]
    }
   ],
   "source": [
    "# percentage distribution for special days \n",
    "print(df['SpecialDay'].value_counts(normalize = True))"
   ]
  },
  {
   "cell_type": "code",
   "execution_count": null,
   "metadata": {},
   "outputs": [],
   "source": []
  },
  {
   "cell_type": "markdown",
   "metadata": {},
   "source": [
    "### BIVARIATE ANALYSIS\n",
    "We perform this analysis between two variables to look at their relationship. in this session er going to perform bivariate analysis between the revenue column and the following features.\n",
    "* Visitor type \n",
    "* Region\n",
    "* Month\n",
    "* Traffic type"
   ]
  },
  {
   "cell_type": "markdown",
   "metadata": {},
   "source": [
    "### Analysing Revenue Versus TrafficType\n",
    "We visualizing the rrelationship between revenue and traffic type on a countplot to give us the number of users in each traffic type and whether or not they made a purchase."
   ]
  },
  {
   "cell_type": "code",
   "execution_count": 62,
   "metadata": {},
   "outputs": [
    {
     "data": {
      "image/png": "[encoded data removed]",
      "text/plain": [
       "<Figure size 640x480 with 1 Axes>"
      ]
     },
     "metadata": {},
     "output_type": "display_data"
    }
   ],
   "source": [
    "# plotting Revenue and TrafficType\n",
    "sns.countplot(x = \"TrafficType\", hue = \"Revenue\", data = df)\n",
    "#plt.legend(loc = 'right')\n",
    "plt.title('TrafficType versus Revenue', color = 'purple')\n",
    "plt.show()"
   ]
  },
  {
   "cell_type": "markdown",
   "metadata": {},
   "source": [
    "From the plot, source 2, 1 and 3 respectively has more revenue conversion generated from web traffic. There are other sources with with considerate amount of web traffic and a very low revenue conversion compared to others."
   ]
  },
  {
   "cell_type": "markdown",
   "metadata": {},
   "source": [
    "### Analysing Revenue Versus VisitorType\n",
    "The categorical plot between Revenue and VisitorType will give us te number of customers in each subcategory, and whether or nnot they made a purchase. The values of the revenue column is of boolean dtype, the plot will define customers who make a purchase as **True**, and those who did not as **False**"
   ]
  },
  {
   "cell_type": "code",
   "execution_count": 26,
   "metadata": {},
   "outputs": [
    {
     "data": {
      "image/png": "[encoded data removed]",
      "text/plain": [
       "<Figure size 1500x500 with 3 Axes>"
      ]
     },
     "metadata": {},
     "output_type": "display_data"
    }
   ],
   "source": [
    "#categorical plot between Revenue and VisitorType\n",
    "ax = sns.catplot(x=\"Revenue\", col=\"VisitorType\", col_wrap=3, kind=\"count\", height=5, aspect=1, data=df)\n",
    "plt.show()"
   ]
  },
  {
   "cell_type": "markdown",
   "metadata": {},
   "source": [
    "The results from the categorical plot reveals there's more revenue conversions for returning customers as compared to new customers. With this info, we can direct our focuses more to increasing new customers engagements with our website to increase overall purchases, revenue generation and customers as a whole."
   ]
  },
  {
   "cell_type": "markdown",
   "metadata": {},
   "source": [
    "### Analysing Revenue Versus Month\n",
    "The categorical plot between Revenue and Month will show us the number of customers in each subcategory, and whether or nnot they made a purchase at a given month. The values of the revenue column is of boolean dtype, the plot will define customers who make a purchase in a specific month as **True**, and those who did not as **False**."
   ]
  },
  {
   "cell_type": "code",
   "execution_count": 29,
   "metadata": {},
   "outputs": [
    {
     "data": {
      "text/plain": [
       "May     3364\n",
       "Nov     2998\n",
       "Mar     1907\n",
       "Dec     1727\n",
       "Oct      549\n",
       "Sep      448\n",
       "Aug      433\n",
       "Jul      432\n",
       "June     288\n",
       "Feb      184\n",
       "Name: Month, dtype: int64"
      ]
     },
     "execution_count": 29,
     "metadata": {},
     "output_type": "execute_result"
    }
   ],
   "source": [
    "df.Month.value_counts()"
   ]
  },
  {
   "cell_type": "code",
   "execution_count": 54,
   "metadata": {},
   "outputs": [
    {
     "data": {
      "image/png": "[encoded data removed]",
      "text/plain": [
       "<Figure size 640x480 with 1 Axes>"
      ]
     },
     "metadata": {},
     "output_type": "display_data"
    }
   ],
   "source": [
    "sns.countplot(x='Month', hue = \"Revenue\", data = df, \n",
    "              order = ['Feb', 'Mar', 'May', 'June', 'Jul', 'Aug', 'Sep', 'Oct', 'Nov', 'Dec'])\n",
    "plt.title(\"Revenue By Month\", color ='purple', fontsize = 13)\n",
    "plt.show()"
   ]
  },
  {
   "cell_type": "markdown",
   "metadata": {},
   "source": [
    "Website visits by customers may be high in May, but it is observed from the barplot above that a greater number of purchases were made by customers in the month of November."
   ]
  },
  {
   "cell_type": "code",
   "execution_count": null,
   "metadata": {},
   "outputs": [],
   "source": []
  },
  {
   "cell_type": "markdown",
   "metadata": {},
   "source": [
    "### Analysing Revenue Generated By Region\n",
    "To determin how this variable contributes to sales, we begin by evaluating the relationship between the Revenue and Region features. This might just be reliable in the event of planning marketing campaigns and logistics better.\n"
   ]
  },
  {
   "cell_type": "code",
   "execution_count": 63,
   "metadata": {},
   "outputs": [
    {
     "data": {
      "image/png": "[encoded data removed]",
      "text/plain": [
       "<Figure size 640x480 with 1 Axes>"
      ]
     },
     "metadata": {},
     "output_type": "display_data"
    }
   ],
   "source": [
    "sns.countplot(data = df, x = \"Region\", hue = \"Revenue\")\n",
    "#plt.legend(loc = 'right')\n",
    "plt.title('Revenue Generated Per Region ', color = 'purple')\n",
    "plt.show()"
   ]
  },
  {
   "cell_type": "markdown",
   "metadata": {},
   "source": [
    "Based on the plot shown earlier, we can observe that region 1 has the highest sales, followed by region 3. This data can assist us in improving our marketing and supply chain strategies. For instance, we could suggest constructing a warehouse that caters exclusively to the requirements of region 1. This would help enhance delivery speed and ensure that popular products are always available in sufficient quantity."
   ]
  },
  {
   "cell_type": "code",
   "execution_count": null,
   "metadata": {},
   "outputs": [],
   "source": []
  },
  {
   "cell_type": "markdown",
   "metadata": {},
   "source": [
    "### LINEAR RELATIONSHIP"
   ]
  },
  {
   "cell_type": "markdown",
   "metadata": {
    "id": "X8y4qiTwWqUO"
   },
   "source": [
    "The primary objective of this part is to establish if there is a linear correlation between two columns. For the variables to have a linear relationship, they must meet one of these two conditions: \n",
    "* when the value of one variable increases, the value of the other variable also increases, or\n",
    "* when the value of one variable increases, the value of the other variable decreases."
   ]
  },
  {
   "cell_type": "markdown",
   "metadata": {
    "id": "FcViuKAMWqXW"
   },
   "source": [
    "Here are some variable pairs that we can begin investigating for linear relationships:\n",
    "- Bounce rate and exit rate\n",
    "- Page value and bounce rate\n",
    "- Page value and exit rate\n",
    "- The influence of administrative page views and administrative page view duration on revenue\n",
    "- The influence of information page views and information page view duration on revenue."
   ]
  },
  {
   "cell_type": "markdown",
   "metadata": {},
   "source": [
    "### Bounce rate and exit rate"
   ]
  },
  {
   "cell_type": "code",
   "execution_count": null,
   "metadata": {},
   "outputs": [],
   "source": []
  },
  {
   "cell_type": "code",
   "execution_count": null,
   "metadata": {},
   "outputs": [],
   "source": []
  },
  {
   "cell_type": "code",
   "execution_count": null,
   "metadata": {},
   "outputs": [],
   "source": []
  },
  {
   "cell_type": "markdown",
   "metadata": {},
   "source": [
    "###  Information page views and information page view duration on revenue."
   ]
  },
  {
   "cell_type": "code",
   "execution_count": null,
   "metadata": {},
   "outputs": [],
   "source": []
  },
  {
   "cell_type": "code",
   "execution_count": null,
   "metadata": {},
   "outputs": [],
   "source": []
  },
  {
   "cell_type": "code",
   "execution_count": null,
   "metadata": {},
   "outputs": [],
   "source": []
  },
  {
   "cell_type": "markdown",
   "metadata": {},
   "source": [
    "### Page value and bounce rate\n"
   ]
  },
  {
   "cell_type": "code",
   "execution_count": null,
   "metadata": {},
   "outputs": [],
   "source": []
  },
  {
   "cell_type": "code",
   "execution_count": null,
   "metadata": {},
   "outputs": [],
   "source": []
  },
  {
   "cell_type": "code",
   "execution_count": null,
   "metadata": {},
   "outputs": [],
   "source": []
  },
  {
   "cell_type": "markdown",
   "metadata": {},
   "source": [
    "### Administrative page views and administrative page view duration on revenue"
   ]
  },
  {
   "cell_type": "code",
   "execution_count": null,
   "metadata": {},
   "outputs": [],
   "source": []
  },
  {
   "cell_type": "code",
   "execution_count": null,
   "metadata": {},
   "outputs": [],
   "source": []
  },
  {
   "cell_type": "code",
   "execution_count": null,
   "metadata": {},
   "outputs": [],
   "source": []
  },
  {
   "cell_type": "markdown",
   "metadata": {},
   "source": [
    "### Page value and exit rate"
   ]
  },
  {
   "cell_type": "code",
   "execution_count": null,
   "metadata": {},
   "outputs": [],
   "source": []
  },
  {
   "cell_type": "code",
   "execution_count": null,
   "metadata": {},
   "outputs": [],
   "source": []
  },
  {
   "cell_type": "code",
   "execution_count": null,
   "metadata": {},
   "outputs": [],
   "source": []
  },
  {
   "cell_type": "code",
   "execution_count": null,
   "metadata": {},
   "outputs": [],
   "source": []
  },
  {
   "cell_type": "code",
   "execution_count": null,
   "metadata": {},
   "outputs": [],
   "source": []
  },
  {
   "cell_type": "code",
   "execution_count": null,
   "metadata": {},
   "outputs": [],
   "source": []
  },
  {
   "cell_type": "code",
   "execution_count": null,
   "metadata": {},
   "outputs": [],
   "source": []
  },
  {
   "cell_type": "code",
   "execution_count": null,
   "metadata": {},
   "outputs": [],
   "source": []
  },
  {
   "cell_type": "code",
   "execution_count": null,
   "metadata": {},
   "outputs": [],
   "source": []
  },
  {
   "cell_type": "code",
   "execution_count": null,
   "metadata": {},
   "outputs": [],
   "source": []
  },
  {
   "cell_type": "code",
   "execution_count": null,
   "metadata": {},
   "outputs": [],
   "source": []
  },
  {
   "cell_type": "code",
   "execution_count": null,
   "metadata": {},
   "outputs": [],
   "source": []
  },
  {
   "cell_type": "code",
   "execution_count": null,
   "metadata": {},
   "outputs": [],
   "source": []
  },
  {
   "cell_type": "code",
   "execution_count": null,
   "metadata": {},
   "outputs": [],
   "source": []
  },
  {
   "cell_type": "code",
   "execution_count": null,
   "metadata": {},
   "outputs": [],
   "source": []
  }
 ],
 "metadata": {
  "colab": {
   "provenance": []
  },
  "kernelspec": {
   "display_name": "Python 3 (ipykernel)",
   "language": "python",
   "name": "python3"
  },
  "language_info": {
   "codemirror_mode": {
    "name": "ipython",
    "version": 3
   },
   "file_extension": ".py",
   "mimetype": "text/x-python",
   "name": "python",
   "nbconvert_exporter": "python",
   "pygments_lexer": "ipython3",
   "version": "3.10.9"
  }
 },
 "nbformat": 4,
 "nbformat_minor": 1
}
